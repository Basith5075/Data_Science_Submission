{
 "cells": [
  {
   "cell_type": "markdown",
   "id": "cb29c9eb",
   "metadata": {},
   "source": [
    "# Learning Python in Jupyter"
   ]
  },
  {
   "cell_type": "markdown",
   "id": "16814f22",
   "metadata": {},
   "source": [
    "String:"
   ]
  },
  {
   "cell_type": "code",
   "execution_count": 1,
   "id": "c7e78687",
   "metadata": {},
   "outputs": [],
   "source": [
    "fname = 'Abdul Basith'"
   ]
  },
  {
   "cell_type": "code",
   "execution_count": 2,
   "id": "6cbb7760",
   "metadata": {},
   "outputs": [],
   "source": [
    "lname = 'Mohammed'"
   ]
  },
  {
   "cell_type": "code",
   "execution_count": 4,
   "id": "f23c4d7c",
   "metadata": {},
   "outputs": [
    {
     "data": {
      "text/plain": [
       "'Abdul BasithMohammed'"
      ]
     },
     "execution_count": 4,
     "metadata": {},
     "output_type": "execute_result"
    }
   ],
   "source": [
    "fname + lname"
   ]
  },
  {
   "cell_type": "code",
   "execution_count": 5,
   "id": "0583b624",
   "metadata": {},
   "outputs": [
    {
     "data": {
      "text/plain": [
       "('Abdul Basith', 'Mohammed')"
      ]
     },
     "execution_count": 5,
     "metadata": {},
     "output_type": "execute_result"
    }
   ],
   "source": [
    "fname,lname"
   ]
  },
  {
   "cell_type": "code",
   "execution_count": 6,
   "id": "9ae41a2e",
   "metadata": {},
   "outputs": [
    {
     "name": "stdout",
     "output_type": "stream",
     "text": [
      "Abdul BasithMohammed\n"
     ]
    }
   ],
   "source": [
    "print (fname+lname)"
   ]
  },
  {
   "cell_type": "code",
   "execution_count": 7,
   "id": "582b3b54",
   "metadata": {},
   "outputs": [
    {
     "name": "stdout",
     "output_type": "stream",
     "text": [
      "Abdul Basith Mohammed\n"
     ]
    }
   ],
   "source": [
    "print(fname +' '+lname)"
   ]
  },
  {
   "cell_type": "code",
   "execution_count": 8,
   "id": "57e94777",
   "metadata": {},
   "outputs": [
    {
     "name": "stdout",
     "output_type": "stream",
     "text": [
      "Abdul Basith Mohammed\n"
     ]
    }
   ],
   "source": [
    "print(fname +\" \"+lname)"
   ]
  },
  {
   "cell_type": "code",
   "execution_count": 9,
   "id": "58157942",
   "metadata": {},
   "outputs": [],
   "source": [
    "x = 12\n",
    "y = 13.5\n",
    "\n",
    "sum = x+y;"
   ]
  },
  {
   "cell_type": "code",
   "execution_count": 10,
   "id": "0e6273d8",
   "metadata": {},
   "outputs": [
    {
     "name": "stdout",
     "output_type": "stream",
     "text": [
      "25.5\n"
     ]
    }
   ],
   "source": [
    "print (sum)"
   ]
  },
  {
   "cell_type": "code",
   "execution_count": 26,
   "id": "dd909a96",
   "metadata": {},
   "outputs": [
    {
     "name": "stdout",
     "output_type": "stream",
     "text": [
      "the sum of x and y is 25.5\n"
     ]
    }
   ],
   "source": [
    "x = 12\n",
    "y = 13.5\n",
    "sum = x+y;\n",
    "diff = x-y;\n",
    "\n",
    "print ('the sum of x and y is '+str(sum))"
   ]
  },
  {
   "cell_type": "code",
   "execution_count": 27,
   "id": "dbd8321d",
   "metadata": {},
   "outputs": [
    {
     "data": {
      "text/plain": [
       "\"aren't you hungry\""
      ]
     },
     "execution_count": 27,
     "metadata": {},
     "output_type": "execute_result"
    }
   ],
   "source": [
    "\"aren't you hungry\""
   ]
  },
  {
   "cell_type": "code",
   "execution_count": 30,
   "id": "2f0e3d63",
   "metadata": {},
   "outputs": [
    {
     "data": {
      "text/plain": [
       "\"aren't you hungry\""
      ]
     },
     "execution_count": 30,
     "metadata": {},
     "output_type": "execute_result"
    }
   ],
   "source": [
    "'aren\\'t you hungry'"
   ]
  },
  {
   "cell_type": "code",
   "execution_count": 35,
   "id": "85af586d",
   "metadata": {},
   "outputs": [],
   "source": [
    "#this is comment\n"
   ]
  },
  {
   "cell_type": "code",
   "execution_count": 38,
   "id": "0362f2f5",
   "metadata": {},
   "outputs": [
    {
     "data": {
      "text/plain": [
       "'r'"
      ]
     },
     "execution_count": 38,
     "metadata": {},
     "output_type": "execute_result"
    }
   ],
   "source": [
    "\"friday\"[1]"
   ]
  },
  {
   "cell_type": "code",
   "execution_count": 3,
   "id": "e2543b48",
   "metadata": {},
   "outputs": [
    {
     "data": {
      "text/plain": [
       "True"
      ]
     },
     "execution_count": 3,
     "metadata": {},
     "output_type": "execute_result"
    }
   ],
   "source": [
    "True or False"
   ]
  },
  {
   "cell_type": "code",
   "execution_count": 10,
   "id": "a0bd9207",
   "metadata": {},
   "outputs": [
    {
     "name": "stdout",
     "output_type": "stream",
     "text": [
      "printing the number = 32\n"
     ]
    }
   ],
   "source": [
    "def printNum(x):\n",
    "    print(\"printing the number = \"+str(x))\n",
    "\n",
    "printNum(32)"
   ]
  },
  {
   "cell_type": "code",
   "execution_count": 24,
   "id": "2bd16862",
   "metadata": {},
   "outputs": [],
   "source": [
    "def ifExam(x):\n",
    " if x>5:\n",
    "    print (\"Greater than 5 = \",x)\n",
    " elif x<5:\n",
    "    print (\"Lesser than 5 = \",x)\n",
    " else:\n",
    "    print(\"equal to \"+ str(x))"
   ]
  },
  {
   "cell_type": "code",
   "execution_count": 26,
   "id": "4ed60f72",
   "metadata": {},
   "outputs": [
    {
     "name": "stdout",
     "output_type": "stream",
     "text": [
      "Greater than 5 =  10\n"
     ]
    }
   ],
   "source": [
    "ifExam(10)"
   ]
  },
  {
   "cell_type": "markdown",
   "id": "c181d56a",
   "metadata": {},
   "source": [
    "functions"
   ]
  },
  {
   "cell_type": "code",
   "execution_count": 39,
   "id": "80e078e4",
   "metadata": {},
   "outputs": [],
   "source": [
    "def bus_info(bus_Num):\n",
    "    if bus_Num==13315:\n",
    "     return \"southbound bus from NLR to Univ\"\n",
    "    else:\n",
    "     return \"northbound\""
   ]
  },
  {
   "cell_type": "code",
   "execution_count": 41,
   "id": "93005093",
   "metadata": {},
   "outputs": [
    {
     "data": {
      "text/plain": [
       "'northbound'"
      ]
     },
     "execution_count": 41,
     "metadata": {},
     "output_type": "execute_result"
    }
   ],
   "source": [
    "bus_info(13325)"
   ]
  },
  {
   "cell_type": "code",
   "execution_count": null,
   "id": "5d82bc44",
   "metadata": {},
   "outputs": [],
   "source": []
  }
 ],
 "metadata": {
  "kernelspec": {
   "display_name": "Python 3 (ipykernel)",
   "language": "python",
   "name": "python3"
  },
  "language_info": {
   "codemirror_mode": {
    "name": "ipython",
    "version": 3
   },
   "file_extension": ".py",
   "mimetype": "text/x-python",
   "name": "python",
   "nbconvert_exporter": "python",
   "pygments_lexer": "ipython3",
   "version": "3.9.12"
  }
 },
 "nbformat": 4,
 "nbformat_minor": 5
}
