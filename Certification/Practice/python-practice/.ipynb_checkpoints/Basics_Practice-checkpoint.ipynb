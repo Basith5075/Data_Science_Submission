{
 "cells": [
  {
   "cell_type": "code",
   "execution_count": 1,
   "id": "875da67c",
   "metadata": {},
   "outputs": [],
   "source": [
    "name = 'basith'"
   ]
  },
  {
   "cell_type": "code",
   "execution_count": 2,
   "id": "f4298495",
   "metadata": {},
   "outputs": [
    {
     "data": {
      "text/plain": [
       "'basith'"
      ]
     },
     "execution_count": 2,
     "metadata": {},
     "output_type": "execute_result"
    }
   ],
   "source": [
    "name"
   ]
  },
  {
   "cell_type": "code",
   "execution_count": 3,
   "id": "310bc759",
   "metadata": {},
   "outputs": [],
   "source": [
    "name = \"basith\""
   ]
  },
  {
   "cell_type": "code",
   "execution_count": 4,
   "id": "376d9c50",
   "metadata": {},
   "outputs": [
    {
     "data": {
      "text/plain": [
       "'basith'"
      ]
     },
     "execution_count": 4,
     "metadata": {},
     "output_type": "execute_result"
    }
   ],
   "source": [
    "name"
   ]
  },
  {
   "cell_type": "code",
   "execution_count": 5,
   "id": "7a941c0c",
   "metadata": {},
   "outputs": [
    {
     "name": "stdout",
     "output_type": "stream",
     "text": [
      "basith\n"
     ]
    }
   ],
   "source": [
    "print(name)"
   ]
  },
  {
   "cell_type": "code",
   "execution_count": 6,
   "id": "73e55877",
   "metadata": {},
   "outputs": [],
   "source": [
    "a=10; b=20\n",
    "\n",
    "c=a+b;\n"
   ]
  },
  {
   "cell_type": "code",
   "execution_count": 7,
   "id": "5e116a35",
   "metadata": {},
   "outputs": [
    {
     "name": "stdout",
     "output_type": "stream",
     "text": [
      "30\n"
     ]
    }
   ],
   "source": [
    "print(c)"
   ]
  },
  {
   "cell_type": "code",
   "execution_count": 12,
   "id": "1c86d752",
   "metadata": {},
   "outputs": [],
   "source": [
    "# Example of ********* tuples ***********\n",
    "\n",
    "names = ('nick', 'jones', 'jabbar')"
   ]
  },
  {
   "cell_type": "markdown",
   "id": "3d9d603e",
   "metadata": {},
   "source": [
    "            "
   ]
  },
  {
   "cell_type": "code",
   "execution_count": 10,
   "id": "490a7870",
   "metadata": {},
   "outputs": [
    {
     "data": {
      "text/plain": [
       "('nick', 'jones', 'jabbar')"
      ]
     },
     "execution_count": 10,
     "metadata": {},
     "output_type": "execute_result"
    }
   ],
   "source": [
    "names"
   ]
  },
  {
   "cell_type": "code",
   "execution_count": 14,
   "id": "238c1c5d",
   "metadata": {},
   "outputs": [],
   "source": [
    "# Example of ********* List ***********\n",
    "\n",
    "names1 = ['nick', 'jones', 'jabbar']"
   ]
  },
  {
   "cell_type": "code",
   "execution_count": 15,
   "id": "1677e598",
   "metadata": {},
   "outputs": [
    {
     "data": {
      "text/plain": [
       "['nick', 'jones', 'jabbar']"
      ]
     },
     "execution_count": 15,
     "metadata": {},
     "output_type": "execute_result"
    }
   ],
   "source": [
    "names1"
   ]
  },
  {
   "cell_type": "code",
   "execution_count": 16,
   "id": "b9fb4a0a",
   "metadata": {},
   "outputs": [],
   "source": [
    "names1.append('shoaib')"
   ]
  },
  {
   "cell_type": "code",
   "execution_count": 17,
   "id": "140885f9",
   "metadata": {},
   "outputs": [
    {
     "data": {
      "text/plain": [
       "['nick', 'jones', 'jabbar', 'shoaib']"
      ]
     },
     "execution_count": 17,
     "metadata": {},
     "output_type": "execute_result"
    }
   ],
   "source": [
    "names1"
   ]
  },
  {
   "cell_type": "code",
   "execution_count": 18,
   "id": "8bca1b25",
   "metadata": {},
   "outputs": [
    {
     "ename": "AttributeError",
     "evalue": "'tuple' object has no attribute 'append'",
     "output_type": "error",
     "traceback": [
      "\u001b[1;31m---------------------------------------------------------------------------\u001b[0m",
      "\u001b[1;31mAttributeError\u001b[0m                            Traceback (most recent call last)",
      "Input \u001b[1;32mIn [18]\u001b[0m, in \u001b[0;36m<cell line: 1>\u001b[1;34m()\u001b[0m\n\u001b[1;32m----> 1\u001b[0m \u001b[43mnames\u001b[49m\u001b[38;5;241;43m.\u001b[39;49m\u001b[43mappend\u001b[49m(\u001b[38;5;124m'\u001b[39m\u001b[38;5;124mwaqar\u001b[39m\u001b[38;5;124m'\u001b[39m)\n",
      "\u001b[1;31mAttributeError\u001b[0m: 'tuple' object has no attribute 'append'"
     ]
    }
   ],
   "source": [
    "names.append('waqar')"
   ]
  },
  {
   "cell_type": "code",
   "execution_count": null,
   "id": "0c1448af",
   "metadata": {},
   "outputs": [],
   "source": [
    "names"
   ]
  },
  {
   "cell_type": "code",
   "execution_count": 19,
   "id": "7257327f",
   "metadata": {},
   "outputs": [],
   "source": [
    "names1.remove('jones')"
   ]
  },
  {
   "cell_type": "code",
   "execution_count": 20,
   "id": "a63e81d0",
   "metadata": {},
   "outputs": [
    {
     "data": {
      "text/plain": [
       "['nick', 'jabbar', 'shoaib']"
      ]
     },
     "execution_count": 20,
     "metadata": {},
     "output_type": "execute_result"
    }
   ],
   "source": [
    "names1"
   ]
  },
  {
   "cell_type": "code",
   "execution_count": 72,
   "id": "b8861096",
   "metadata": {},
   "outputs": [
    {
     "name": "stdout",
     "output_type": "stream",
     "text": [
      "Please select no of bedrooms.\n",
      "1.Single Room\n",
      "2.Double Room\n",
      "2\n",
      "the rent for the year is 11988\n"
     ]
    }
   ],
   "source": [
    "#program to calculate rent in a year based on per month rate\n",
    "\n",
    "singleRate = 799\n",
    "doubleRate = 999\n",
    "time = 12\n",
    "print('Please select no of bedrooms.\\n1.Single Room\\n2.Double Room')\n",
    "choice = int(input());\n",
    "totalRent = 0\n",
    "\n",
    "if choice == 1:\n",
    "     totalRent = singleRate*time\n",
    "elif choice == 2:\n",
    "     totalRent = doubleRate*time\n",
    "print('the rent for the year is '+str(totalRent))\n"
   ]
  },
  {
   "cell_type": "code",
   "execution_count": 22,
   "id": "6088b95f",
   "metadata": {},
   "outputs": [
    {
     "name": "stdout",
     "output_type": "stream",
     "text": [
      "raheem\n"
     ]
    }
   ],
   "source": [
    "a = input()"
   ]
  },
  {
   "cell_type": "code",
   "execution_count": 23,
   "id": "04695fba",
   "metadata": {},
   "outputs": [
    {
     "name": "stdout",
     "output_type": "stream",
     "text": [
      "raheem\n"
     ]
    }
   ],
   "source": [
    "print(a)"
   ]
  },
  {
   "cell_type": "code",
   "execution_count": 55,
   "id": "bbdb798a",
   "metadata": {},
   "outputs": [
    {
     "data": {
      "text/plain": [
       "range(0, 5)"
      ]
     },
     "execution_count": 55,
     "metadata": {},
     "output_type": "execute_result"
    }
   ],
   "source": [
    "range(5)"
   ]
  },
  {
   "cell_type": "code",
   "execution_count": 57,
   "id": "d4eb7f21",
   "metadata": {},
   "outputs": [
    {
     "name": "stdout",
     "output_type": "stream",
     "text": [
      "range(0, 5)\n"
     ]
    }
   ],
   "source": [
    "print(range(5))"
   ]
  },
  {
   "cell_type": "code",
   "execution_count": 58,
   "id": "0b1f984e",
   "metadata": {},
   "outputs": [
    {
     "data": {
      "text/plain": [
       "range(3, 5)"
      ]
     },
     "execution_count": 58,
     "metadata": {},
     "output_type": "execute_result"
    }
   ],
   "source": [
    "range(3,5)"
   ]
  },
  {
   "cell_type": "code",
   "execution_count": 59,
   "id": "5b5012ee",
   "metadata": {},
   "outputs": [
    {
     "name": "stdout",
     "output_type": "stream",
     "text": [
      "3 5\n"
     ]
    }
   ],
   "source": [
    "print(3,5)"
   ]
  },
  {
   "cell_type": "code",
   "execution_count": 60,
   "id": "2e4eca92",
   "metadata": {},
   "outputs": [
    {
     "data": {
      "text/plain": [
       "range(1, 5)"
      ]
     },
     "execution_count": 60,
     "metadata": {},
     "output_type": "execute_result"
    }
   ],
   "source": [
    "range(1,5)"
   ]
  },
  {
   "cell_type": "code",
   "execution_count": 62,
   "id": "acc605c6",
   "metadata": {},
   "outputs": [
    {
     "name": "stdout",
     "output_type": "stream",
     "text": [
      "1\n",
      "2\n",
      "3\n",
      "4\n"
     ]
    }
   ],
   "source": [
    "for x in range(1,5):\n",
    "    print(x)"
   ]
  },
  {
   "cell_type": "markdown",
   "id": "b6819e2a",
   "metadata": {},
   "source": [
    "for x in range (10):\n",
    "    print('my name is basith')"
   ]
  },
  {
   "cell_type": "code",
   "execution_count": 69,
   "id": "20eb177e",
   "metadata": {},
   "outputs": [
    {
     "name": "stdout",
     "output_type": "stream",
     "text": [
      "0 is an even number\n",
      "1 is an odd number\n",
      "2 is an even number\n",
      "3 is an odd number\n",
      "4 is an even number\n",
      "5 is an odd number\n",
      "6 is an even number\n",
      "7 is an odd number\n",
      "8 is an even number\n",
      "9 is an odd number\n",
      "10 is an even number\n",
      "11 is an odd number\n",
      "12 is an even number\n",
      "13 is an odd number\n",
      "14 is an even number\n",
      "15 is an odd number\n",
      "16 is an even number\n",
      "17 is an odd number\n",
      "18 is an even number\n",
      "19 is an odd number\n"
     ]
    }
   ],
   "source": [
    "for x in range (20):\n",
    "    if x%2==0:\n",
    "        print(str(x)+ ' is an even number')\n",
    "    else:\n",
    "        print(str(x)+ ' is an odd number')"
   ]
  },
  {
   "cell_type": "code",
   "execution_count": 75,
   "id": "58b0685f",
   "metadata": {},
   "outputs": [
    {
     "name": "stdout",
     "output_type": "stream",
     "text": [
      "Not prime\n",
      "Not prime\n",
      "prime\n",
      "prime\n",
      "Not prime\n",
      "prime\n",
      "prime\n",
      "prime\n",
      "prime\n",
      "Not prime\n",
      "prime\n",
      "prime\n",
      "prime\n",
      "prime\n",
      "prime\n",
      "prime\n",
      "prime\n",
      "prime\n",
      "prime\n",
      "prime\n",
      "prime\n",
      "prime\n",
      "prime\n",
      "prime\n"
     ]
    }
   ],
   "source": [
    "for x in range (1,25):\n",
    "    flag = true\n",
    "    if(25%(x/2)==0):\n",
    "        \n",
    "    else:\n",
    "        "
   ]
  },
  {
   "cell_type": "code",
   "execution_count": 78,
   "id": "968526bc",
   "metadata": {
    "scrolled": true
   },
   "outputs": [
    {
     "data": {
      "text/plain": [
       "bool"
      ]
     },
     "execution_count": 78,
     "metadata": {},
     "output_type": "execute_result"
    }
   ],
   "source": [
    "idea = False\n",
    "\n",
    "type(idea)"
   ]
  },
  {
   "cell_type": "code",
   "execution_count": 12,
   "id": "361da84d",
   "metadata": {},
   "outputs": [],
   "source": [
    "cities = ['little rock', 'New York', 'Chicago']"
   ]
  },
  {
   "cell_type": "code",
   "execution_count": 13,
   "id": "4f3d07d7",
   "metadata": {},
   "outputs": [
    {
     "name": "stdout",
     "output_type": "stream",
     "text": [
      "['little rock', 'New York', 'Chicago']\n"
     ]
    }
   ],
   "source": [
    "print(cities)"
   ]
  },
  {
   "cell_type": "code",
   "execution_count": 15,
   "id": "4f909c2f",
   "metadata": {},
   "outputs": [],
   "source": [
    "cities.append('new jersey')"
   ]
  },
  {
   "cell_type": "code",
   "execution_count": 16,
   "id": "2760775e",
   "metadata": {},
   "outputs": [
    {
     "name": "stdout",
     "output_type": "stream",
     "text": [
      "['little rock', 'New York', 'Chicago', 'new jersey']\n"
     ]
    }
   ],
   "source": [
    "print(cities)"
   ]
  },
  {
   "cell_type": "code",
   "execution_count": 17,
   "id": "46ce43fe",
   "metadata": {},
   "outputs": [],
   "source": [
    "cities.remove('little rock')"
   ]
  },
  {
   "cell_type": "code",
   "execution_count": 18,
   "id": "8d8c7549",
   "metadata": {},
   "outputs": [
    {
     "name": "stdout",
     "output_type": "stream",
     "text": [
      "['New York', 'Chicago', 'new jersey']\n"
     ]
    }
   ],
   "source": [
    "print(cities)"
   ]
  },
  {
   "cell_type": "code",
   "execution_count": 19,
   "id": "8668e2b9",
   "metadata": {},
   "outputs": [
    {
     "data": {
      "text/plain": [
       "'I am in Little Rock'"
      ]
     },
     "execution_count": 19,
     "metadata": {},
     "output_type": "execute_result"
    }
   ],
   "source": [
    "\"I am in Little Rock\""
   ]
  },
  {
   "cell_type": "code",
   "execution_count": 20,
   "id": "5494686e",
   "metadata": {},
   "outputs": [
    {
     "data": {
      "text/plain": [
       "\"I am in Little Rock's\""
      ]
     },
     "execution_count": 20,
     "metadata": {},
     "output_type": "execute_result"
    }
   ],
   "source": [
    "\"I am in Little Rock's\""
   ]
  },
  {
   "cell_type": "code",
   "execution_count": 22,
   "id": "c2a8813f",
   "metadata": {},
   "outputs": [],
   "source": [
    "senten = 'I am in Little Rock\\'s'"
   ]
  },
  {
   "cell_type": "code",
   "execution_count": 23,
   "id": "2cdb1588",
   "metadata": {},
   "outputs": [
    {
     "data": {
      "text/plain": [
       "\"I am in Little Rock's\""
      ]
     },
     "execution_count": 23,
     "metadata": {},
     "output_type": "execute_result"
    }
   ],
   "source": [
    "senten"
   ]
  },
  {
   "cell_type": "code",
   "execution_count": 24,
   "id": "3db4e9a9",
   "metadata": {},
   "outputs": [
    {
     "name": "stdout",
     "output_type": "stream",
     "text": [
      "I am in Little Rock's\n"
     ]
    }
   ],
   "source": [
    "print(senten)"
   ]
  },
  {
   "cell_type": "code",
   "execution_count": 32,
   "id": "6b1613c8",
   "metadata": {},
   "outputs": [
    {
     "name": "stdout",
     "output_type": "stream",
     "text": [
      "Press \"Enter\"\n"
     ]
    }
   ],
   "source": [
    "print('Press \"Enter\"')"
   ]
  },
  {
   "cell_type": "code",
   "execution_count": 38,
   "id": "1ca53a1c",
   "metadata": {},
   "outputs": [
    {
     "name": "stdout",
     "output_type": "stream",
     "text": [
      "Press \"Enter\"\n",
      "New Line Starts tab \t here\n"
     ]
    }
   ],
   "source": [
    "# Basic print formatting of python\n",
    "\n",
    "print('Press \"Enter\"\\nNew Line Starts tab \\t here')"
   ]
  },
  {
   "cell_type": "code",
   "execution_count": 39,
   "id": "860c7e4d",
   "metadata": {},
   "outputs": [
    {
     "data": {
      "text/plain": [
       "16"
      ]
     },
     "execution_count": 39,
     "metadata": {},
     "output_type": "execute_result"
    }
   ],
   "source": [
    "2**4"
   ]
  },
  {
   "cell_type": "markdown",
   "id": "cd9986b3",
   "metadata": {},
   "source": [
    "#Arithmetic Operations"
   ]
  },
  {
   "cell_type": "code",
   "execution_count": 40,
   "id": "5f7bf819",
   "metadata": {},
   "outputs": [
    {
     "name": "stdout",
     "output_type": "stream",
     "text": [
      "8\n"
     ]
    }
   ],
   "source": [
    "#Addition\n",
    "\n",
    "x = 3 + 5\n",
    "\n",
    "print (x)"
   ]
  },
  {
   "cell_type": "code",
   "execution_count": 41,
   "id": "b029e3a1",
   "metadata": {},
   "outputs": [
    {
     "name": "stdout",
     "output_type": "stream",
     "text": [
      "3\n"
     ]
    }
   ],
   "source": [
    "#Substraction\n",
    "\n",
    "y = 6 - 3\n",
    "\n",
    "print (y)"
   ]
  },
  {
   "cell_type": "code",
   "execution_count": 42,
   "id": "4f7a738d",
   "metadata": {},
   "outputs": [
    {
     "name": "stdout",
     "output_type": "stream",
     "text": [
      "3.0\n"
     ]
    }
   ],
   "source": [
    "#division\n",
    "\n",
    "z = 15 / 5\n",
    "\n",
    "print (z)"
   ]
  },
  {
   "cell_type": "code",
   "execution_count": 43,
   "id": "c76457da",
   "metadata": {},
   "outputs": [
    {
     "name": "stdout",
     "output_type": "stream",
     "text": [
      "1\n"
     ]
    }
   ],
   "source": [
    "#Returning Remainder\n",
    "\n",
    "a = 9 % 4\n",
    "\n",
    "print (a)"
   ]
  },
  {
   "cell_type": "code",
   "execution_count": 46,
   "id": "3542796c",
   "metadata": {},
   "outputs": [
    {
     "name": "stdout",
     "output_type": "stream",
     "text": [
      "15\n"
     ]
    }
   ],
   "source": [
    "#Multiplication\n",
    "\n",
    "b = 3 * 5\n",
    "\n",
    "print (b)"
   ]
  },
  {
   "cell_type": "code",
   "execution_count": 49,
   "id": "79fb96d6",
   "metadata": {},
   "outputs": [
    {
     "name": "stdout",
     "output_type": "stream",
     "text": [
      "27\n"
     ]
    }
   ],
   "source": [
    "#Power Calculation\n",
    "\n",
    "c = 3**3\n",
    "\n",
    "print (c)"
   ]
  },
  {
   "cell_type": "code",
   "execution_count": 50,
   "id": "0317bc37",
   "metadata": {},
   "outputs": [
    {
     "name": "stdout",
     "output_type": "stream",
     "text": [
      "<built-in function len>\n"
     ]
    }
   ],
   "source": [
    "print(len)"
   ]
  },
  {
   "cell_type": "code",
   "execution_count": 52,
   "id": "4777c5af",
   "metadata": {},
   "outputs": [
    {
     "data": {
      "text/plain": [
       "['New York', 'Chicago', 'new jersey']"
      ]
     },
     "execution_count": 52,
     "metadata": {},
     "output_type": "execute_result"
    }
   ],
   "source": [
    "cities"
   ]
  },
  {
   "cell_type": "code",
   "execution_count": 53,
   "id": "73e70d71",
   "metadata": {},
   "outputs": [],
   "source": [
    "cities=['New York', 'Chicago', 'new jersey']"
   ]
  },
  {
   "cell_type": "code",
   "execution_count": 54,
   "id": "9b90b261",
   "metadata": {},
   "outputs": [
    {
     "data": {
      "text/plain": [
       "['New York', 'Chicago', 'new jersey']"
      ]
     },
     "execution_count": 54,
     "metadata": {},
     "output_type": "execute_result"
    }
   ],
   "source": [
    "cities"
   ]
  },
  {
   "cell_type": "code",
   "execution_count": 56,
   "id": "29306492",
   "metadata": {},
   "outputs": [
    {
     "name": "stdout",
     "output_type": "stream",
     "text": [
      "3\n"
     ]
    }
   ],
   "source": [
    "print(len(cities))"
   ]
  },
  {
   "cell_type": "code",
   "execution_count": 57,
   "id": "598b31c0",
   "metadata": {},
   "outputs": [
    {
     "data": {
      "text/plain": [
       "'Chicago'"
      ]
     },
     "execution_count": 57,
     "metadata": {},
     "output_type": "execute_result"
    }
   ],
   "source": [
    "cities.pop(1)"
   ]
  },
  {
   "cell_type": "code",
   "execution_count": 58,
   "id": "70329b51",
   "metadata": {},
   "outputs": [
    {
     "data": {
      "text/plain": [
       "'New York'"
      ]
     },
     "execution_count": 58,
     "metadata": {},
     "output_type": "execute_result"
    }
   ],
   "source": [
    "cities.pop(0)"
   ]
  },
  {
   "cell_type": "code",
   "execution_count": 59,
   "id": "ce02b658",
   "metadata": {},
   "outputs": [
    {
     "ename": "IndexError",
     "evalue": "pop index out of range",
     "output_type": "error",
     "traceback": [
      "\u001b[1;31m---------------------------------------------------------------------------\u001b[0m",
      "\u001b[1;31mIndexError\u001b[0m                                Traceback (most recent call last)",
      "Input \u001b[1;32mIn [59]\u001b[0m, in \u001b[0;36m<cell line: 1>\u001b[1;34m()\u001b[0m\n\u001b[1;32m----> 1\u001b[0m \u001b[43mcities\u001b[49m\u001b[38;5;241;43m.\u001b[39;49m\u001b[43mpop\u001b[49m\u001b[43m(\u001b[49m\u001b[38;5;241;43m2\u001b[39;49m\u001b[43m)\u001b[49m\n",
      "\u001b[1;31mIndexError\u001b[0m: pop index out of range"
     ]
    }
   ],
   "source": [
    "cities.pop(2)"
   ]
  },
  {
   "cell_type": "code",
   "execution_count": 60,
   "id": "6c58e4ec",
   "metadata": {},
   "outputs": [
    {
     "ename": "IndexError",
     "evalue": "pop index out of range",
     "output_type": "error",
     "traceback": [
      "\u001b[1;31m---------------------------------------------------------------------------\u001b[0m",
      "\u001b[1;31mIndexError\u001b[0m                                Traceback (most recent call last)",
      "Input \u001b[1;32mIn [60]\u001b[0m, in \u001b[0;36m<cell line: 1>\u001b[1;34m()\u001b[0m\n\u001b[1;32m----> 1\u001b[0m \u001b[43mcities\u001b[49m\u001b[38;5;241;43m.\u001b[39;49m\u001b[43mpop\u001b[49m\u001b[43m(\u001b[49m\u001b[38;5;241;43m-\u001b[39;49m\u001b[38;5;241;43m2\u001b[39;49m\u001b[43m)\u001b[49m\n",
      "\u001b[1;31mIndexError\u001b[0m: pop index out of range"
     ]
    }
   ],
   "source": [
    "cities.pop(-2)"
   ]
  },
  {
   "cell_type": "code",
   "execution_count": 61,
   "id": "bf7bff4c",
   "metadata": {},
   "outputs": [
    {
     "data": {
      "text/plain": [
       "'new jersey'"
      ]
     },
     "execution_count": 61,
     "metadata": {},
     "output_type": "execute_result"
    }
   ],
   "source": [
    "cities.pop(-1)"
   ]
  },
  {
   "cell_type": "markdown",
   "id": "c0c08a7b",
   "metadata": {},
   "source": [
    "    Dictionary\n",
    "    "
   ]
  },
  {
   "cell_type": "code",
   "execution_count": 2,
   "id": "02009ac4",
   "metadata": {},
   "outputs": [
    {
     "ename": "TypeError",
     "evalue": "'type' object does not support item assignment",
     "output_type": "error",
     "traceback": [
      "\u001b[1;31m---------------------------------------------------------------------------\u001b[0m",
      "\u001b[1;31mTypeError\u001b[0m                                 Traceback (most recent call last)",
      "Input \u001b[1;32mIn [2]\u001b[0m, in \u001b[0;36m<cell line: 1>\u001b[1;34m()\u001b[0m\n\u001b[1;32m----> 1\u001b[0m \u001b[38;5;28mdict\u001b[39m[\u001b[38;5;124m'\u001b[39m\u001b[38;5;124mcity\u001b[39m\u001b[38;5;124m'\u001b[39m] \u001b[38;5;241m=\u001b[39m \u001b[38;5;124m'\u001b[39m\u001b[38;5;124mHyderabad\u001b[39m\u001b[38;5;124m'\u001b[39m\n",
      "\u001b[1;31mTypeError\u001b[0m: 'type' object does not support item assignment"
     ]
    }
   ],
   "source": [
    "dict['city'] = 'Hyderabad'"
   ]
  },
  {
   "cell_type": "code",
   "execution_count": null,
   "id": "fa7efc1a",
   "metadata": {},
   "outputs": [],
   "source": []
  }
 ],
 "metadata": {
  "kernelspec": {
   "display_name": "Python 3 (ipykernel)",
   "language": "python",
   "name": "python3"
  },
  "language_info": {
   "codemirror_mode": {
    "name": "ipython",
    "version": 3
   },
   "file_extension": ".py",
   "mimetype": "text/x-python",
   "name": "python",
   "nbconvert_exporter": "python",
   "pygments_lexer": "ipython3",
   "version": "3.9.12"
  }
 },
 "nbformat": 4,
 "nbformat_minor": 5
}
