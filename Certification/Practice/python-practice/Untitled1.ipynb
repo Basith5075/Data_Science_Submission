{
 "cells": [
  {
   "cell_type": "code",
   "execution_count": 3,
   "id": "3d81cdb0",
   "metadata": {},
   "outputs": [
    {
     "name": "stdout",
     "output_type": "stream",
     "text": [
      "Defaulting to user installation because normal site-packages is not writeable\n",
      "Collecting pyecharts\n",
      "  Downloading pyecharts-1.9.1-py3-none-any.whl (135 kB)\n",
      "Collecting simplejson\n",
      "  Downloading simplejson-3.17.6-cp39-cp39-win_amd64.whl (75 kB)\n",
      "Requirement already satisfied: jinja2 in c:\\programdata\\anaconda3\\lib\\site-packages (from pyecharts) (2.11.3)\n",
      "Collecting prettytable\n",
      "  Downloading prettytable-3.5.0-py3-none-any.whl (26 kB)\n",
      "Requirement already satisfied: MarkupSafe>=0.23 in c:\\programdata\\anaconda3\\lib\\site-packages (from jinja2->pyecharts) (2.0.1)\n",
      "Requirement already satisfied: wcwidth in c:\\programdata\\anaconda3\\lib\\site-packages (from prettytable->pyecharts) (0.2.5)\n",
      "Installing collected packages: simplejson, prettytable, pyecharts\n",
      "Successfully installed prettytable-3.5.0 pyecharts-1.9.1 simplejson-3.17.6\n",
      "Note: you may need to restart the kernel to use updated packages.\n"
     ]
    }
   ],
   "source": [
    "pip install pyecharts"
   ]
  },
  {
   "cell_type": "code",
   "execution_count": 9,
   "id": "60114b0d",
   "metadata": {},
   "outputs": [],
   "source": [
    "from pyecharts import _version"
   ]
  },
  {
   "cell_type": "code",
   "execution_count": 10,
   "id": "a852ca4a",
   "metadata": {},
   "outputs": [
    {
     "data": {
      "text/plain": [
       "<module 'pyecharts._version' from 'C:\\\\Users\\\\basit\\\\AppData\\\\Roaming\\\\Python\\\\Python39\\\\site-packages\\\\pyecharts\\\\_version.py'>"
      ]
     },
     "execution_count": 10,
     "metadata": {},
     "output_type": "execute_result"
    }
   ],
   "source": [
    "_version"
   ]
  },
  {
   "cell_type": "code",
   "execution_count": 11,
   "id": "06769522",
   "metadata": {},
   "outputs": [
    {
     "name": "stdout",
     "output_type": "stream",
     "text": [
      "<module 'pyecharts._version' from 'C:\\\\Users\\\\basit\\\\AppData\\\\Roaming\\\\Python\\\\Python39\\\\site-packages\\\\pyecharts\\\\_version.py'>\n"
     ]
    }
   ],
   "source": [
    "print(_version)"
   ]
  },
  {
   "cell_type": "code",
   "execution_count": null,
   "id": "02cb8057",
   "metadata": {},
   "outputs": [],
   "source": []
  }
 ],
 "metadata": {
  "kernelspec": {
   "display_name": "Python 3 (ipykernel)",
   "language": "python",
   "name": "python3"
  },
  "language_info": {
   "codemirror_mode": {
    "name": "ipython",
    "version": 3
   },
   "file_extension": ".py",
   "mimetype": "text/x-python",
   "name": "python",
   "nbconvert_exporter": "python",
   "pygments_lexer": "ipython3",
   "version": "3.9.12"
  }
 },
 "nbformat": 4,
 "nbformat_minor": 5
}
