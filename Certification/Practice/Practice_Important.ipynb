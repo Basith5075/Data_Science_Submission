{
 "cells": [
  {
   "cell_type": "code",
   "execution_count": 1,
   "id": "591b3b0f",
   "metadata": {},
   "outputs": [],
   "source": [
    "n = [1,2,45,23,78,900]"
   ]
  },
  {
   "cell_type": "code",
   "execution_count": 2,
   "id": "9ec5d60c",
   "metadata": {},
   "outputs": [
    {
     "data": {
      "text/plain": [
       "900"
      ]
     },
     "execution_count": 2,
     "metadata": {},
     "output_type": "execute_result"
    }
   ],
   "source": [
    "max(n)"
   ]
  },
  {
   "cell_type": "code",
   "execution_count": 3,
   "id": "3a338845",
   "metadata": {},
   "outputs": [
    {
     "data": {
      "text/plain": [
       "1"
      ]
     },
     "execution_count": 3,
     "metadata": {},
     "output_type": "execute_result"
    }
   ],
   "source": [
    "min(n)"
   ]
  },
  {
   "cell_type": "code",
   "execution_count": 4,
   "id": "058d7c18",
   "metadata": {},
   "outputs": [
    {
     "data": {
      "text/plain": [
       "6"
      ]
     },
     "execution_count": 4,
     "metadata": {},
     "output_type": "execute_result"
    }
   ],
   "source": [
    "len(n)"
   ]
  },
  {
   "cell_type": "code",
   "execution_count": 7,
   "id": "ee7204ae",
   "metadata": {},
   "outputs": [
    {
     "data": {
      "text/plain": [
       "'s'"
      ]
     },
     "execution_count": 7,
     "metadata": {},
     "output_type": "execute_result"
    }
   ],
   "source": [
    "'basith'[2]"
   ]
  },
  {
   "cell_type": "code",
   "execution_count": 11,
   "id": "44fcb10a",
   "metadata": {},
   "outputs": [
    {
     "data": {
      "text/plain": [
       "1049"
      ]
     },
     "execution_count": 11,
     "metadata": {},
     "output_type": "execute_result"
    }
   ],
   "source": [
    "sum(n)"
   ]
  },
  {
   "cell_type": "code",
   "execution_count": 14,
   "id": "5b805338",
   "metadata": {},
   "outputs": [
    {
     "name": "stdout",
     "output_type": "stream",
     "text": [
      "0\n",
      "1\n",
      "2\n",
      "3\n"
     ]
    }
   ],
   "source": [
    "for n in range(4):\n",
    "    print(n)"
   ]
  },
  {
   "cell_type": "code",
   "execution_count": 28,
   "id": "f7f21cc2",
   "metadata": {},
   "outputs": [
    {
     "name": "stdout",
     "output_type": "stream",
     "text": [
      "3\n"
     ]
    }
   ],
   "source": [
    "counter = 0\n",
    "for n in range(1,3):\n",
    "    counter = counter+n;\n",
    "\n",
    "print(counter)"
   ]
  },
  {
   "cell_type": "code",
   "execution_count": 64,
   "id": "cd15cbc9",
   "metadata": {},
   "outputs": [],
   "source": [
    "#Function counting the numbers till a given number from 1\n",
    "\n",
    "def count_func(x):\n",
    "    counter = 0\n",
    "    for n in range(1,x+1):\n",
    "        counter = counter + n\n",
    "        print(n)\n",
    "    print('sum of numbers till ',x,' is = ',counter)"
   ]
  },
  {
   "cell_type": "code",
   "execution_count": 65,
   "id": "d3aee0f4",
   "metadata": {
    "scrolled": true
   },
   "outputs": [
    {
     "name": "stdout",
     "output_type": "stream",
     "text": [
      "1\n",
      "2\n",
      "3\n",
      "4\n",
      "5\n",
      "6\n",
      "7\n",
      "8\n",
      "9\n",
      "10\n",
      "sum of numbers till  10  is =  55\n"
     ]
    }
   ],
   "source": [
    "# Calling the count_func(x)\n",
    "\n",
    "count_func(10)"
   ]
  },
  {
   "cell_type": "code",
   "execution_count": 55,
   "id": "cafc48a3",
   "metadata": {},
   "outputs": [],
   "source": [
    "def even_or_odd(x):\n",
    "    if x%2==0:\n",
    "        return 'even'\n",
    "    else:\n",
    "        return 'odd'\n"
   ]
  },
  {
   "cell_type": "code",
   "execution_count": 62,
   "id": "20aec6ee",
   "metadata": {},
   "outputs": [
    {
     "data": {
      "text/plain": [
       "'even'"
      ]
     },
     "execution_count": 62,
     "metadata": {},
     "output_type": "execute_result"
    }
   ],
   "source": [
    "even_or_odd(204.0)"
   ]
  },
  {
   "cell_type": "code",
   "execution_count": 73,
   "id": "4f118d7c",
   "metadata": {},
   "outputs": [],
   "source": [
    "def table_gen(x):\n",
    "    print('*************')\n",
    "    for n in range(1,11):\n",
    "        print(x,'*',n,'=',x*n)\n",
    "    print('*************')"
   ]
  },
  {
   "cell_type": "code",
   "execution_count": 75,
   "id": "94c864b7",
   "metadata": {
    "scrolled": true
   },
   "outputs": [
    {
     "name": "stdout",
     "output_type": "stream",
     "text": [
      "*************\n",
      "7 * 1 = 7\n",
      "7 * 2 = 14\n",
      "7 * 3 = 21\n",
      "7 * 4 = 28\n",
      "7 * 5 = 35\n",
      "7 * 6 = 42\n",
      "7 * 7 = 49\n",
      "7 * 8 = 56\n",
      "7 * 9 = 63\n",
      "7 * 10 = 70\n",
      "*************\n"
     ]
    }
   ],
   "source": [
    "table_gen(7)"
   ]
  },
  {
   "cell_type": "code",
   "execution_count": 2,
   "id": "83426636",
   "metadata": {},
   "outputs": [],
   "source": [
    "data = ['Hyderabad', 'little rock', 'chicago','san fransisco']"
   ]
  },
  {
   "cell_type": "code",
   "execution_count": 3,
   "id": "52072dbc",
   "metadata": {},
   "outputs": [
    {
     "data": {
      "text/plain": [
       "['Hyderabad', 'little rock', 'chicago', 'san fransisco']"
      ]
     },
     "execution_count": 3,
     "metadata": {},
     "output_type": "execute_result"
    }
   ],
   "source": [
    "data"
   ]
  },
  {
   "cell_type": "code",
   "execution_count": 4,
   "id": "aa7b9b47",
   "metadata": {},
   "outputs": [
    {
     "name": "stdout",
     "output_type": "stream",
     "text": [
      "cities = Hyderabad\n",
      "cities = little rock\n",
      "cities = chicago\n",
      "cities = san fransisco\n"
     ]
    }
   ],
   "source": [
    "for n in range(len(data)):\n",
    "    print('cities = '+data[n])"
   ]
  },
  {
   "cell_type": "code",
   "execution_count": 14,
   "id": "49ab79c7",
   "metadata": {},
   "outputs": [
    {
     "name": "stdout",
     "output_type": "stream",
     "text": [
      "Hyderabad\n",
      "little rock\n",
      "chicago\n",
      "san fransisco\n",
      "bangalore\n"
     ]
    }
   ],
   "source": [
    "i = 0\n",
    "\n",
    "while i<len(data):\n",
    "    print(data[i])\n",
    "    i +=1"
   ]
  },
  {
   "cell_type": "code",
   "execution_count": 12,
   "id": "369bbe91",
   "metadata": {},
   "outputs": [],
   "source": [
    "#Addition to the cities \n",
    "data.append('bangalore')"
   ]
  },
  {
   "cell_type": "code",
   "execution_count": 13,
   "id": "6def3c18",
   "metadata": {},
   "outputs": [
    {
     "data": {
      "text/plain": [
       "['Hyderabad', 'little rock', 'chicago', 'san fransisco', 'bangalore']"
      ]
     },
     "execution_count": 13,
     "metadata": {},
     "output_type": "execute_result"
    }
   ],
   "source": [
    "data"
   ]
  },
  {
   "cell_type": "code",
   "execution_count": 15,
   "id": "fa1ac58c",
   "metadata": {},
   "outputs": [],
   "source": [
    "#deletion from cities\n",
    "data.remove('chicago')"
   ]
  },
  {
   "cell_type": "code",
   "execution_count": 16,
   "id": "3787e758",
   "metadata": {},
   "outputs": [
    {
     "data": {
      "text/plain": [
       "['Hyderabad', 'little rock', 'san fransisco', 'bangalore']"
      ]
     },
     "execution_count": 16,
     "metadata": {},
     "output_type": "execute_result"
    }
   ],
   "source": [
    "data"
   ]
  },
  {
   "cell_type": "code",
   "execution_count": 32,
   "id": "4a2377bc",
   "metadata": {},
   "outputs": [],
   "source": [
    "#tuples \n",
    "data_tuple = ('new york', 'washington','detroit','new york')"
   ]
  },
  {
   "cell_type": "code",
   "execution_count": 18,
   "id": "7ac24d3e",
   "metadata": {},
   "outputs": [
    {
     "data": {
      "text/plain": [
       "('new york', 'washington')"
      ]
     },
     "execution_count": 18,
     "metadata": {},
     "output_type": "execute_result"
    }
   ],
   "source": [
    "data_tuple"
   ]
  },
  {
   "cell_type": "code",
   "execution_count": 33,
   "id": "2ec16ad1",
   "metadata": {},
   "outputs": [
    {
     "data": {
      "text/plain": [
       "2"
      ]
     },
     "execution_count": 33,
     "metadata": {},
     "output_type": "execute_result"
    }
   ],
   "source": [
    "data_tuple.count('new york')"
   ]
  },
  {
   "cell_type": "code",
   "execution_count": 34,
   "id": "0d34fd16",
   "metadata": {},
   "outputs": [],
   "source": [
    "#dictionaries\n",
    "\n",
    "year_of_births = {'abdul':'1993','raheem':'1992','shoaib':'1994'}"
   ]
  },
  {
   "cell_type": "code",
   "execution_count": 35,
   "id": "d4602cc9",
   "metadata": {},
   "outputs": [
    {
     "data": {
      "text/plain": [
       "{'abdul': '1993', 'raheem': '1992', 'shoaib': '1994'}"
      ]
     },
     "execution_count": 35,
     "metadata": {},
     "output_type": "execute_result"
    }
   ],
   "source": [
    "year_of_births"
   ]
  },
  {
   "cell_type": "code",
   "execution_count": 39,
   "id": "48f21f36",
   "metadata": {},
   "outputs": [
    {
     "data": {
      "text/plain": [
       "'1994'"
      ]
     },
     "execution_count": 39,
     "metadata": {},
     "output_type": "execute_result"
    }
   ],
   "source": [
    "year_of_births['shoaib']"
   ]
  },
  {
   "cell_type": "code",
   "execution_count": 40,
   "id": "3f667c5b",
   "metadata": {},
   "outputs": [
    {
     "data": {
      "text/plain": [
       "('shoaib', '1994')"
      ]
     },
     "execution_count": 40,
     "metadata": {},
     "output_type": "execute_result"
    }
   ],
   "source": [
    "year_of_births.popitem()"
   ]
  },
  {
   "cell_type": "code",
   "execution_count": 41,
   "id": "69d4f816",
   "metadata": {},
   "outputs": [
    {
     "data": {
      "text/plain": [
       "{'abdul': '1993', 'raheem': '1992'}"
      ]
     },
     "execution_count": 41,
     "metadata": {},
     "output_type": "execute_result"
    }
   ],
   "source": [
    "year_of_births"
   ]
  },
  {
   "cell_type": "code",
   "execution_count": 51,
   "id": "7bab8aeb",
   "metadata": {
    "scrolled": true
   },
   "outputs": [
    {
     "name": "stdout",
     "output_type": "stream",
     "text": [
      "Help on built-in function update:\n",
      "\n",
      "update(...) method of builtins.dict instance\n",
      "    D.update([E, ]**F) -> None.  Update D from dict/iterable E and F.\n",
      "    If E is present and has a .keys() method, then does:  for k in E: D[k] = E[k]\n",
      "    If E is present and lacks a .keys() method, then does:  for k, v in E: D[k] = v\n",
      "    In either case, this is followed by: for k in F:  D[k] = F[k]\n",
      "\n"
     ]
    }
   ],
   "source": [
    "help(year_of_births.update)"
   ]
  },
  {
   "cell_type": "code",
   "execution_count": 47,
   "id": "294152b6",
   "metadata": {},
   "outputs": [
    {
     "ename": "KeyError",
     "evalue": "'raheem'",
     "output_type": "error",
     "traceback": [
      "\u001b[1;31m---------------------------------------------------------------------------\u001b[0m",
      "\u001b[1;31mKeyError\u001b[0m                                  Traceback (most recent call last)",
      "Input \u001b[1;32mIn [47]\u001b[0m, in \u001b[0;36m<cell line: 1>\u001b[1;34m()\u001b[0m\n\u001b[1;32m----> 1\u001b[0m \u001b[43myear_of_births\u001b[49m\u001b[38;5;241;43m.\u001b[39;49m\u001b[43mpop\u001b[49m\u001b[43m(\u001b[49m\u001b[38;5;124;43m'\u001b[39;49m\u001b[38;5;124;43mraheem\u001b[39;49m\u001b[38;5;124;43m'\u001b[39;49m\u001b[43m)\u001b[49m\n",
      "\u001b[1;31mKeyError\u001b[0m: 'raheem'"
     ]
    }
   ],
   "source": [
    "year_of_births.pop('raheem')"
   ]
  },
  {
   "cell_type": "code",
   "execution_count": 55,
   "id": "e7837673",
   "metadata": {},
   "outputs": [],
   "source": [
    "year_of_births\n",
    "#adding elements to the list\n",
    "year_of_births['wahed']='1994'\n",
    "year_of_births['saba']='1114'\n",
    "year_of_births['bilal']='2784'\n"
   ]
  },
  {
   "cell_type": "code",
   "execution_count": 56,
   "id": "8dd2e10d",
   "metadata": {},
   "outputs": [
    {
     "data": {
      "text/plain": [
       "{'abdul': '1993', 'wahed': '1994', 'saba': '1114', 'bilal': '2784'}"
      ]
     },
     "execution_count": 56,
     "metadata": {},
     "output_type": "execute_result"
    }
   ],
   "source": [
    "year_of_births"
   ]
  },
  {
   "cell_type": "code",
   "execution_count": 57,
   "id": "44e94eda",
   "metadata": {},
   "outputs": [],
   "source": [
    "year_of_birth_2 = {'rohan':'1564','soman':'1212','jack':'4536'}"
   ]
  },
  {
   "cell_type": "code",
   "execution_count": 60,
   "id": "12423398",
   "metadata": {},
   "outputs": [],
   "source": [
    "year_of_births.update(year_of_birth_2)"
   ]
  },
  {
   "cell_type": "code",
   "execution_count": 69,
   "id": "77472871",
   "metadata": {},
   "outputs": [
    {
     "data": {
      "text/plain": [
       "{'saba': '1114',\n",
       " 'bilal': '2784',\n",
       " 'rohan': '1564',\n",
       " 'soman': '1212',\n",
       " 'jack': '4536'}"
      ]
     },
     "execution_count": 69,
     "metadata": {},
     "output_type": "execute_result"
    }
   ],
   "source": [
    "year_of_births"
   ]
  },
  {
   "cell_type": "code",
   "execution_count": 70,
   "id": "06c10157",
   "metadata": {},
   "outputs": [
    {
     "data": {
      "text/plain": [
       "['Hyderabad', 'little rock', 'san fransisco', 'bangalore']"
      ]
     },
     "execution_count": 70,
     "metadata": {},
     "output_type": "execute_result"
    }
   ],
   "source": [
    "data"
   ]
  },
  {
   "cell_type": "code",
   "execution_count": 71,
   "id": "11642545",
   "metadata": {},
   "outputs": [],
   "source": [
    "new_data = ['karachi','calcutta']"
   ]
  },
  {
   "cell_type": "code",
   "execution_count": 72,
   "id": "1c77e801",
   "metadata": {},
   "outputs": [],
   "source": [
    "data.extend(new_data)"
   ]
  },
  {
   "cell_type": "code",
   "execution_count": 73,
   "id": "fc6d646d",
   "metadata": {},
   "outputs": [
    {
     "data": {
      "text/plain": [
       "['Hyderabad',\n",
       " 'little rock',\n",
       " 'san fransisco',\n",
       " 'bangalore',\n",
       " 'karachi',\n",
       " 'calcutta']"
      ]
     },
     "execution_count": 73,
     "metadata": {},
     "output_type": "execute_result"
    }
   ],
   "source": [
    "data"
   ]
  },
  {
   "cell_type": "code",
   "execution_count": 88,
   "id": "37c47f72",
   "metadata": {
    "scrolled": false
   },
   "outputs": [
    {
     "name": "stdout",
     "output_type": "stream",
     "text": [
      "0\n",
      "2\n",
      "4\n",
      "6\n",
      "8\n",
      "10\n",
      "12\n",
      "14\n",
      "16\n",
      "18\n",
      "20\n"
     ]
    }
   ],
   "source": [
    "#print even number till 20 using while loop\n",
    "\n",
    "x = 0\n",
    "while x<=20:\n",
    "    if x%2 == 0 :\n",
    "        print(x)\n",
    "    x +=1"
   ]
  },
  {
   "cell_type": "code",
   "execution_count": 93,
   "id": "ab5fbe27",
   "metadata": {},
   "outputs": [
    {
     "name": "stdout",
     "output_type": "stream",
     "text": [
      "0 2 4 6 8 10 12 14 16 18 20 "
     ]
    }
   ],
   "source": [
    "#print even number till 20 using for loop\n",
    "\n",
    "for n in range(21):\n",
    "    if n%2 == 0:\n",
    "        print(n,end= ' ')"
   ]
  },
  {
   "cell_type": "code",
   "execution_count": null,
   "id": "29a53491",
   "metadata": {},
   "outputs": [],
   "source": []
  }
 ],
 "metadata": {
  "kernelspec": {
   "display_name": "Python 3 (ipykernel)",
   "language": "python",
   "name": "python3"
  },
  "language_info": {
   "codemirror_mode": {
    "name": "ipython",
    "version": 3
   },
   "file_extension": ".py",
   "mimetype": "text/x-python",
   "name": "python",
   "nbconvert_exporter": "python",
   "pygments_lexer": "ipython3",
   "version": "3.9.12"
  }
 },
 "nbformat": 4,
 "nbformat_minor": 5
}
